{
 "cells": [
  {
   "cell_type": "code",
   "execution_count": 97,
   "metadata": {
    "collapsed": true
   },
   "outputs": [],
   "source": [
    "import pandas as pd\n",
    "import os\n",
    "import matplotlib.pyplot as plt\n",
    "import numpy as np\n",
    "from sklearn import datasets, linear_model\n",
    "from sklearn.metrics import mean_squared_error, r2_score\n",
    "from matplotlib import pyplot"
   ]
  },
  {
   "cell_type": "code",
   "execution_count": 111,
   "metadata": {},
   "outputs": [
    {
     "name": "stdout",
     "output_type": "stream",
     "text": [
      "Index(['TEAM', 'CONF', 'G', 'W', 'ADJOE', 'ADJDE', 'BARTHAG', 'EFG_O', 'EFG_D',\n",
      "       'TOR', 'TORD', 'ORB', 'DRB', 'FTR', 'FTRD', '2P_O', '2P_D', '3P_O',\n",
      "       '3P_D', 'ADJ_T', 'WAB', 'POSTSEASON', 'SEED'],\n",
      "      dtype='object')\n"
     ]
    }
   ],
   "source": [
    "dataset17 = pd.read_csv(\"cbb17.csv\")\n",
    "dataset19 = pd.read_csv(\"cbb19.csv\")\n",
    "print(dataset19.keys())"
   ]
  },
  {
   "cell_type": "code",
   "execution_count": 99,
   "metadata": {
    "collapsed": true
   },
   "outputs": [],
   "source": [
    "cleaned17 = dataset17.dropna()\n",
    "cleaned17 = cleaned17[cleaned17.POSTSEASON != \"R68\"]\n",
    "#dummies = pd.get_dummies(cleaned17.CONF)\n",
    "cleaned17 = cleaned17.replace({\"R32\": 1, \"R64\": 0, \"S16\": 2, \"E8\": 3, \"F4\": 4, \"2ND\": 5, \"Champions\": 6})\n",
    "cleaned17['G'] = cleaned17['G'] - cleaned17['POSTSEASON'] - 1\n",
    "index = (cleaned17[cleaned17['POSTSEASON']== 6].index.values)\n",
    "cleaned17 = cleaned17.set_value(1, 'G', cleaned17.at[index[0],'G'] + 1)\n",
    "cleaned17['W'] = cleaned17['W'] - cleaned17['POSTSEASON']\n",
    "\n",
    "cleaned19 = dataset19.dropna()\n",
    "cleaned19.set_value(49, 'CONF', 'ASun')\n",
    "cleaned19 = cleaned19[cleaned19.POSTSEASON != \"R68\"]\n",
    "#dummies2 = pd.get_dummies(cleaned19.CONF)\n",
    "cleaned19 = cleaned19.replace({\"R32\": 1, \"R64\": 0, \"S16\": 2, \"E8\": 3, \"F4\": 4, \"2ND\": 5, \"Champions\": 6})\n",
    "cleaned19['G'] = cleaned19['G'] - cleaned19['POSTSEASON'] - 1\n",
    "index = (cleaned19[cleaned19['POSTSEASON']== 6].index.values)\n",
    "cleaned19 = cleaned19.set_value(index[0], 'G', cleaned19.at[index[0],'G'] + 1)\n",
    "cleaned19['W'] = cleaned19['W'] - cleaned19['POSTSEASON']"
   ]
  },
  {
   "cell_type": "code",
   "execution_count": 100,
   "metadata": {},
   "outputs": [],
   "source": [
    "cleaned17 = cleaned17.drop([\"TEAM\"], axis=1)\n",
    "cleaned17 = cleaned17.drop([\"CONF\"], axis=1)\n",
    "cleaned17=(cleaned17-cleaned17.mean())/cleaned17.std()\n",
    "#cleaned17 = cleaned17.join(dummies)\n",
    "#cleaned17 = cleaned17.drop([\"ACC\"], axis=1)\n",
    "outputs17 = cleaned17[\"POSTSEASON\"]\n",
    "cleaned17 = cleaned17.drop([\"POSTSEASON\"], axis=1)\n",
    "cleaned17 = cleaned17.drop([\"SEED\"], axis=1)\n",
    "\n",
    "cleaned19 = cleaned19.drop([\"TEAM\"], axis=1)\n",
    "cleaned19 = cleaned19.drop([\"CONF\"], axis=1)\n",
    "cleaned19=(cleaned19-cleaned19.mean())/cleaned19.std()\n",
    "#cleaned19 = cleaned19.join(dummies2)\n",
    "#cleaned19 = cleaned19.drop([\"ACC\"], axis=1)\n",
    "outputs19 = cleaned19[\"POSTSEASON\"]\n",
    "cleaned19 = cleaned19.drop([\"POSTSEASON\"], axis=1)\n",
    "cleaned19 = cleaned19.drop([\"SEED\"], axis=1)"
   ]
  },
  {
   "cell_type": "code",
   "execution_count": 101,
   "metadata": {},
   "outputs": [
    {
     "ename": "ValueError",
     "evalue": "shapes (64,18) and (19,) not aligned: 18 (dim 1) != 19 (dim 0)",
     "output_type": "error",
     "traceback": [
      "\u001b[1;31m---------------------------------------------------------------------------\u001b[0m",
      "\u001b[1;31mValueError\u001b[0m                                Traceback (most recent call last)",
      "\u001b[1;32m<ipython-input-101-657933f83385>\u001b[0m in \u001b[0;36m<module>\u001b[1;34m()\u001b[0m\n\u001b[0;32m      3\u001b[0m \u001b[0mregr\u001b[0m\u001b[1;33m.\u001b[0m\u001b[0mfit\u001b[0m\u001b[1;33m(\u001b[0m\u001b[0mcleaned17\u001b[0m\u001b[1;33m,\u001b[0m \u001b[0moutputs17\u001b[0m\u001b[1;33m)\u001b[0m\u001b[1;33m\u001b[0m\u001b[0m\n\u001b[0;32m      4\u001b[0m \u001b[1;31m# Make predictions using the testing set\u001b[0m\u001b[1;33m\u001b[0m\u001b[1;33m\u001b[0m\u001b[0m\n\u001b[1;32m----> 5\u001b[1;33m \u001b[0mncaa_pred\u001b[0m \u001b[1;33m=\u001b[0m \u001b[0mregr\u001b[0m\u001b[1;33m.\u001b[0m\u001b[0mpredict\u001b[0m\u001b[1;33m(\u001b[0m\u001b[0mcleaned19\u001b[0m\u001b[1;33m)\u001b[0m\u001b[1;33m\u001b[0m\u001b[0m\n\u001b[0m",
      "\u001b[1;32mC:\\Users\\sokri\\Anaconda3\\lib\\site-packages\\sklearn\\linear_model\\base.py\u001b[0m in \u001b[0;36mpredict\u001b[1;34m(self, X)\u001b[0m\n\u001b[0;32m    266\u001b[0m             \u001b[0mReturns\u001b[0m \u001b[0mpredicted\u001b[0m \u001b[0mvalues\u001b[0m\u001b[1;33m.\u001b[0m\u001b[1;33m\u001b[0m\u001b[0m\n\u001b[0;32m    267\u001b[0m         \"\"\"\n\u001b[1;32m--> 268\u001b[1;33m         \u001b[1;32mreturn\u001b[0m \u001b[0mself\u001b[0m\u001b[1;33m.\u001b[0m\u001b[0m_decision_function\u001b[0m\u001b[1;33m(\u001b[0m\u001b[0mX\u001b[0m\u001b[1;33m)\u001b[0m\u001b[1;33m\u001b[0m\u001b[0m\n\u001b[0m\u001b[0;32m    269\u001b[0m \u001b[1;33m\u001b[0m\u001b[0m\n\u001b[0;32m    270\u001b[0m     \u001b[0m_preprocess_data\u001b[0m \u001b[1;33m=\u001b[0m \u001b[0mstaticmethod\u001b[0m\u001b[1;33m(\u001b[0m\u001b[0m_preprocess_data\u001b[0m\u001b[1;33m)\u001b[0m\u001b[1;33m\u001b[0m\u001b[0m\n",
      "\u001b[1;32mC:\\Users\\sokri\\Anaconda3\\lib\\site-packages\\sklearn\\linear_model\\base.py\u001b[0m in \u001b[0;36m_decision_function\u001b[1;34m(self, X)\u001b[0m\n\u001b[0;32m    251\u001b[0m         \u001b[0mX\u001b[0m \u001b[1;33m=\u001b[0m \u001b[0mcheck_array\u001b[0m\u001b[1;33m(\u001b[0m\u001b[0mX\u001b[0m\u001b[1;33m,\u001b[0m \u001b[0maccept_sparse\u001b[0m\u001b[1;33m=\u001b[0m\u001b[1;33m[\u001b[0m\u001b[1;34m'csr'\u001b[0m\u001b[1;33m,\u001b[0m \u001b[1;34m'csc'\u001b[0m\u001b[1;33m,\u001b[0m \u001b[1;34m'coo'\u001b[0m\u001b[1;33m]\u001b[0m\u001b[1;33m)\u001b[0m\u001b[1;33m\u001b[0m\u001b[0m\n\u001b[0;32m    252\u001b[0m         return safe_sparse_dot(X, self.coef_.T,\n\u001b[1;32m--> 253\u001b[1;33m                                dense_output=True) + self.intercept_\n\u001b[0m\u001b[0;32m    254\u001b[0m \u001b[1;33m\u001b[0m\u001b[0m\n\u001b[0;32m    255\u001b[0m     \u001b[1;32mdef\u001b[0m \u001b[0mpredict\u001b[0m\u001b[1;33m(\u001b[0m\u001b[0mself\u001b[0m\u001b[1;33m,\u001b[0m \u001b[0mX\u001b[0m\u001b[1;33m)\u001b[0m\u001b[1;33m:\u001b[0m\u001b[1;33m\u001b[0m\u001b[0m\n",
      "\u001b[1;32mC:\\Users\\sokri\\Anaconda3\\lib\\site-packages\\sklearn\\utils\\extmath.py\u001b[0m in \u001b[0;36msafe_sparse_dot\u001b[1;34m(a, b, dense_output)\u001b[0m\n\u001b[0;32m    187\u001b[0m         \u001b[1;32mreturn\u001b[0m \u001b[0mret\u001b[0m\u001b[1;33m\u001b[0m\u001b[0m\n\u001b[0;32m    188\u001b[0m     \u001b[1;32melse\u001b[0m\u001b[1;33m:\u001b[0m\u001b[1;33m\u001b[0m\u001b[0m\n\u001b[1;32m--> 189\u001b[1;33m         \u001b[1;32mreturn\u001b[0m \u001b[0mfast_dot\u001b[0m\u001b[1;33m(\u001b[0m\u001b[0ma\u001b[0m\u001b[1;33m,\u001b[0m \u001b[0mb\u001b[0m\u001b[1;33m)\u001b[0m\u001b[1;33m\u001b[0m\u001b[0m\n\u001b[0m\u001b[0;32m    190\u001b[0m \u001b[1;33m\u001b[0m\u001b[0m\n\u001b[0;32m    191\u001b[0m \u001b[1;33m\u001b[0m\u001b[0m\n",
      "\u001b[1;31mValueError\u001b[0m: shapes (64,18) and (19,) not aligned: 18 (dim 1) != 19 (dim 0)"
     ]
    }
   ],
   "source": [
    "regr = linear_model.LinearRegression()\n",
    "# Train the model using the training sets\n",
    "regr.fit(cleaned17, outputs17)\n",
    "# Make predictions using the testing set\n",
    "ncaa_pred = regr.predict(cleaned19)"
   ]
  },
  {
   "cell_type": "code",
   "execution_count": 102,
   "metadata": {},
   "outputs": [
    {
     "name": "stdout",
     "output_type": "stream",
     "text": [
      "Feature: 0, Score: -0.20767\n",
      "Feature: 1, Score: 0.43309\n",
      "Feature: 2, Score: 1.33856\n",
      "Feature: 3, Score: -1.90193\n",
      "Feature: 4, Score: -1.15969\n",
      "Feature: 5, Score: -0.83532\n",
      "Feature: 6, Score: -1.03858\n",
      "Feature: 7, Score: -0.03690\n",
      "Feature: 8, Score: -0.38243\n",
      "Feature: 9, Score: -0.00039\n",
      "Feature: 10, Score: 0.13176\n",
      "Feature: 11, Score: 0.04858\n",
      "Feature: 12, Score: 0.00585\n",
      "Feature: 13, Score: 0.48131\n",
      "Feature: 14, Score: 1.07911\n",
      "Feature: 15, Score: 0.12220\n",
      "Feature: 16, Score: 0.86016\n",
      "Feature: 17, Score: 0.22061\n",
      "Feature: 18, Score: -0.74790\n"
     ]
    },
    {
     "data": {
      "image/png": "[encoded data removed]",
      "text/plain": [
       "<matplotlib.figure.Figure at 0x1947ce2a048>"
      ]
     },
     "metadata": {},
     "output_type": "display_data"
    }
   ],
   "source": [
    "# get importance\n",
    "importance = regr.coef_\n",
    "# summarize feature importance\n",
    "for i,v in enumerate(importance):\n",
    "\tprint('Feature: %0d, Score: %.5f' % (i,v))\n",
    "# plot feature importance\n",
    "pyplot.bar([x for x in range(len(importance))], importance)\n",
    "pyplot.show()"
   ]
  },
  {
   "cell_type": "code",
   "execution_count": 103,
   "metadata": {},
   "outputs": [
    {
     "name": "stdout",
     "output_type": "stream",
     "text": [
      "Coefficients: \n",
      " [ -2.07674495e-01   4.33092646e-01   1.33856324e+00  -1.90193389e+00\n",
      "  -1.15969322e+00  -8.35323930e-01  -1.03857733e+00  -3.69002996e-02\n",
      "  -3.82430429e-01  -3.92867206e-04   1.31763592e-01   4.85760348e-02\n",
      "   5.84797634e-03   4.81307505e-01   1.07910627e+00   1.22204126e-01\n",
      "   8.60164156e-01   2.20605032e-01  -7.47898793e-01]\n",
      "Mean squared error: 0.38\n",
      "Coefficient of determination: 0.61\n"
     ]
    }
   ],
   "source": [
    "print('Coefficients: \\n', regr.coef_)\n",
    "# The mean squared error\n",
    "print('Mean squared error: %.2f'\n",
    "      % mean_squared_error(outputs19, ncaa_pred))\n",
    "# The coefficient of determination: 1 is perfect prediction\n",
    "print('Coefficient of determination: %.2f'\n",
    "      % r2_score(outputs19, ncaa_pred))"
   ]
  },
  {
   "cell_type": "code",
   "execution_count": 104,
   "metadata": {},
   "outputs": [],
   "source": [
    "fullData = pd.read_csv(\"cbb.csv\")\n",
    "cleaned = fullData.dropna()\n",
    "cleaned = cleaned[cleaned.POSTSEASON != \"R68\"]\n",
    "cleaned = cleaned.replace({\"R32\": 1, \"R64\": 0, \"S16\": 2, \"E8\": 3, \"F4\": 4, \"2ND\": 5, \"Champions\": 6})\n",
    "cleaned['G'] = cleaned['G'] - cleaned['POSTSEASON'] - 1\n",
    "index = (cleaned[cleaned['POSTSEASON']== 6].index.values)\n",
    "cleaned = cleaned.set_value(index[0], 'G', cleaned.at[index[0],'G'] + 1)\n",
    "cleaned = cleaned.set_value(index[1], 'G', cleaned.at[index[1],'G'] + 1)\n",
    "cleaned = cleaned.set_value(index[2], 'G', cleaned.at[index[2],'G'] + 1)\n",
    "cleaned = cleaned.set_value(index[3], 'G', cleaned.at[index[3],'G'] + 1)\n",
    "cleaned = cleaned.set_value(index[4], 'G', cleaned.at[index[4],'G'] + 1)\n",
    "cleaned['W'] = cleaned['W'] - cleaned['POSTSEASON']\n",
    "cleaned = cleaned[cleaned.YEAR != 2019]\n",
    "\n",
    "cleaned = cleaned.drop([\"TEAM\"], axis=1)\n",
    "cleaned = cleaned.drop([\"YEAR\"], axis=1)\n",
    "cleaned = cleaned.drop([\"CONF\"], axis=1)\n",
    "cleaned = cleaned.drop([\"SEED\"], axis=1)\n",
    "cleaned=(cleaned-cleaned.mean())/cleaned.std()\n",
    "outputs = cleaned[\"POSTSEASON\"]\n",
    "cleaned = cleaned.drop([\"POSTSEASON\"], axis=1)"
   ]
  },
  {
   "cell_type": "code",
   "execution_count": 105,
   "metadata": {},
   "outputs": [],
   "source": [
    "regr = linear_model.LinearRegression()\n",
    "# Train the model using the training sets\n",
    "regr.fit(cleaned, outputs)\n",
    "# Make predictions using the testing set\n",
    "ncaa_pred = regr.predict(cleaned19)"
   ]
  },
  {
   "cell_type": "code",
   "execution_count": 106,
   "metadata": {},
   "outputs": [
    {
     "name": "stdout",
     "output_type": "stream",
     "text": [
      "Coefficients: \n",
      " [-0.03397896  0.36463462  0.54911856 -0.74149886 -0.29880827 -0.5149305\n",
      " -0.02491888 -0.10490738 -0.00846555  0.24496284  0.01115323 -0.09147559\n",
      "  0.27801328  0.60814499  0.01814348  0.37090066  0.01139651 -0.50886458]\n",
      "Mean squared error: 0.55\n",
      "Coefficient of determination: 0.44\n"
     ]
    }
   ],
   "source": [
    "print('Coefficients: \\n', regr.coef_)\n",
    "# The mean squared error\n",
    "print('Mean squared error: %.2f'\n",
    "      % mean_squared_error(outputs19, ncaa_pred))\n",
    "# The coefficient of determination: 1 is perfect prediction\n",
    "print('Coefficient of determination: %.2f'\n",
    "      % r2_score(outputs19, ncaa_pred))"
   ]
  },
  {
   "cell_type": "code",
   "execution_count": 107,
   "metadata": {},
   "outputs": [
    {
     "name": "stdout",
     "output_type": "stream",
     "text": [
      "{'alpha': 5}\n",
      "-0.961944300743\n"
     ]
    }
   ],
   "source": [
    "from sklearn import metrics\n",
    "from sklearn.model_selection import GridSearchCV\n",
    "from sklearn.linear_model import Ridge\n",
    "\n",
    "# find best params and score for Ridge\n",
    "ridge = Ridge()\n",
    "\n",
    "parameters = {'alpha': [1e-3, 1e-2, 1, 5, 10, 20]}\n",
    "\n",
    "ridge_regressor = GridSearchCV(ridge, parameters, scoring=\"neg_mean_squared_error\", cv=5)\n",
    "\n",
    "ridge_regressor.fit(cleaned, outputs)\n",
    "\n",
    "print(ridge_regressor.best_params_)\n",
    "print(ridge_regressor.best_score_)"
   ]
  },
  {
   "cell_type": "code",
   "execution_count": 108,
   "metadata": {},
   "outputs": [
    {
     "name": "stdout",
     "output_type": "stream",
     "text": [
      "Coefficients: \n",
      " [-0.03396208  0.3645779   0.54900714 -0.74147815 -0.29843654 -0.51427851\n",
      " -0.02495177 -0.1049211  -0.00843308  0.24495896  0.01117097 -0.09146075\n",
      "  0.27779175  0.60761381  0.0179916   0.37059512  0.0113892  -0.50876375]\n",
      "Mean squared error: 0.55\n",
      "Coefficient of determination: 0.44\n"
     ]
    }
   ],
   "source": [
    "ridge = Ridge(alpha=1e-3)\n",
    "ridge.fit(cleaned,outputs)\n",
    "predictions = ridge.predict(cleaned19)\n",
    "print('Coefficients: \\n', ridge.coef_)\n",
    "# The mean squared error\n",
    "print('Mean squared error: %.2f'\n",
    "      % mean_squared_error(outputs19, predictions))\n",
    "# The coefficient of determination: 1 is perfect prediction\n",
    "print('Coefficient of determination: %.2f'\n",
    "      % r2_score(outputs19, predictions))"
   ]
  },
  {
   "cell_type": "code",
   "execution_count": 109,
   "metadata": {},
   "outputs": [
    {
     "name": "stdout",
     "output_type": "stream",
     "text": [
      "{'alpha': 0.01}\n",
      "-0.880883199644\n"
     ]
    }
   ],
   "source": [
    "from sklearn.linear_model import Lasso\n",
    "\n",
    "# find best params and score for Lasso\n",
    "lasso = Lasso()\n",
    "\n",
    "parameters = {'alpha': [1e-3, 1e-2, 1, 5, 10, 20]}\n",
    "\n",
    "lasso_regressor = GridSearchCV(lasso, parameters, scoring='neg_mean_squared_error', cv=10)\n",
    "\n",
    "lasso_regressor.fit(cleaned, outputs)\n",
    "\n",
    "print(lasso_regressor.best_params_)\n",
    "print(lasso_regressor.best_score_)"
   ]
  },
  {
   "cell_type": "code",
   "execution_count": 110,
   "metadata": {},
   "outputs": [
    {
     "name": "stdout",
     "output_type": "stream",
     "text": [
      "Coefficients: \n",
      " [-0.02281141  0.33215716  0.49632893 -0.72365596 -0.07980102 -0.20816997\n",
      " -0.0372837  -0.10649809  0.00489093  0.23863947  0.01810255 -0.0833746\n",
      "  0.14164149  0.35482454 -0.07367591  0.22374413  0.00654324 -0.45316178]\n",
      "Mean squared error: 0.54\n",
      "Coefficient of determination: 0.45\n"
     ]
    }
   ],
   "source": [
    "lasso = Lasso(alpha=1e-3)\n",
    "lasso.fit(cleaned,outputs)\n",
    "predictions = lasso.predict(cleaned19)\n",
    "print('Coefficients: \\n', lasso.coef_)\n",
    "# The mean squared error\n",
    "print('Mean squared error: %.2f'\n",
    "      % mean_squared_error(outputs19, predictions))\n",
    "# The coefficient of determination: 1 is perfect prediction\n",
    "print('Coefficient of determination: %.2f'\n",
    "      % r2_score(outputs19, predictions))"
   ]
  },
  {
   "cell_type": "code",
   "execution_count": null,
   "metadata": {},
   "outputs": [],
   "source": []
  },
  {
   "cell_type": "code",
   "execution_count": null,
   "metadata": {
    "collapsed": true
   },
   "outputs": [],
   "source": []
  }
 ],
 "metadata": {
  "kernelspec": {
   "display_name": "Python 3",
   "language": "python",
   "name": "python3"
  },
  "language_info": {
   "codemirror_mode": {
    "name": "ipython",
    "version": 3
   },
   "file_extension": ".py",
   "mimetype": "text/x-python",
   "name": "python",
   "nbconvert_exporter": "python",
   "pygments_lexer": "ipython3",
   "version": "3.6.1"
  }
 },
 "nbformat": 4,
 "nbformat_minor": 2
}
