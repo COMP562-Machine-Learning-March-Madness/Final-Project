{
 "cells": [
  {
   "cell_type": "code",
   "execution_count": 112,
   "metadata": {
    "collapsed": true
   },
   "outputs": [],
   "source": [
    "import pandas as pd\n",
    "import os\n",
    "import matplotlib.pyplot as plt\n",
    "import numpy as np\n",
    "from sklearn import datasets, linear_model\n",
    "from sklearn.metrics import mean_squared_error, r2_score\n",
    "from matplotlib import pyplot"
   ]
  },
  {
   "cell_type": "code",
   "execution_count": 113,
   "metadata": {},
   "outputs": [
    {
     "name": "stdout",
     "output_type": "stream",
     "text": [
      "Index(['TEAM', 'CONF', 'G', 'W', 'ADJOE', 'ADJDE', 'BARTHAG', 'EFG_O', 'EFG_D',\n",
      "       'TOR', 'TORD', 'ORB', 'DRB', 'FTR', 'FTRD', '2P_O', '2P_D', '3P_O',\n",
      "       '3P_D', 'ADJ_T', 'WAB', 'POSTSEASON', 'SEED'],\n",
      "      dtype='object')\n"
     ]
    }
   ],
   "source": [
    "dataset17 = pd.read_csv(\"cbb17.csv\")\n",
    "dataset19 = pd.read_csv(\"cbb19.csv\")\n",
    "print(dataset19.keys())"
   ]
  },
  {
   "cell_type": "code",
   "execution_count": 114,
   "metadata": {
    "collapsed": true
   },
   "outputs": [],
   "source": [
    "cleaned17 = dataset17.dropna()\n",
    "cleaned17 = cleaned17[cleaned17.POSTSEASON != \"R68\"]\n",
    "#dummies = pd.get_dummies(cleaned17.CONF)\n",
    "cleaned17 = cleaned17.replace({\"R32\": 1, \"R64\": 0, \"S16\": 2, \"E8\": 3, \"F4\": 4, \"2ND\": 5, \"Champions\": 6})\n",
    "cleaned17['G'] = cleaned17['G'] - cleaned17['POSTSEASON'] - 1\n",
    "index = (cleaned17[cleaned17['POSTSEASON']== 6].index.values)\n",
    "cleaned17 = cleaned17.set_value(1, 'G', cleaned17.at[index[0],'G'] + 1)\n",
    "cleaned17['W'] = cleaned17['W'] - cleaned17['POSTSEASON']\n",
    "\n",
    "cleaned19 = dataset19.dropna()\n",
    "cleaned19.set_value(49, 'CONF', 'ASun')\n",
    "cleaned19 = cleaned19[cleaned19.POSTSEASON != \"R68\"]\n",
    "#dummies2 = pd.get_dummies(cleaned19.CONF)\n",
    "cleaned19 = cleaned19.replace({\"R32\": 1, \"R64\": 0, \"S16\": 2, \"E8\": 3, \"F4\": 4, \"2ND\": 5, \"Champions\": 6})\n",
    "cleaned19['G'] = cleaned19['G'] - cleaned19['POSTSEASON'] - 1\n",
    "index = (cleaned19[cleaned19['POSTSEASON']== 6].index.values)\n",
    "cleaned19 = cleaned19.set_value(index[0], 'G', cleaned19.at[index[0],'G'] + 1)\n",
    "cleaned19['W'] = cleaned19['W'] - cleaned19['POSTSEASON']"
   ]
  },
  {
   "cell_type": "code",
   "execution_count": 115,
   "metadata": {},
   "outputs": [],
   "source": [
    "cleaned17 = cleaned17.drop([\"TEAM\"], axis=1)\n",
    "cleaned17 = cleaned17.drop([\"CONF\"], axis=1)\n",
    "cleaned17=(cleaned17-cleaned17.mean())/cleaned17.std()\n",
    "#cleaned17 = cleaned17.join(dummies)\n",
    "#cleaned17 = cleaned17.drop([\"ACC\"], axis=1)\n",
    "outputs17 = cleaned17[\"POSTSEASON\"]\n",
    "cleaned17 = cleaned17.drop([\"POSTSEASON\"], axis=1)\n",
    "cleaned17 = cleaned17.drop([\"SEED\"], axis=1)\n",
    "\n",
    "cleaned19 = cleaned19.drop([\"TEAM\"], axis=1)\n",
    "cleaned19 = cleaned19.drop([\"CONF\"], axis=1)\n",
    "cleaned19=(cleaned19-cleaned19.mean())/cleaned19.std()\n",
    "#cleaned19 = cleaned19.join(dummies2)\n",
    "#cleaned19 = cleaned19.drop([\"ACC\"], axis=1)\n",
    "outputs19 = cleaned19[\"POSTSEASON\"]\n",
    "cleaned19 = cleaned19.drop([\"POSTSEASON\"], axis=1)\n",
    "cleaned19 = cleaned19.drop([\"SEED\"], axis=1)"
   ]
  },
  {
   "cell_type": "code",
   "execution_count": 116,
   "metadata": {},
   "outputs": [],
   "source": [
    "regr = linear_model.LinearRegression()\n",
    "# Train the model using the training sets\n",
    "regr.fit(cleaned17, outputs17)\n",
    "# Make predictions using the testing set\n",
    "ncaa_pred = regr.predict(cleaned19)"
   ]
  },
  {
   "cell_type": "code",
   "execution_count": 117,
   "metadata": {},
   "outputs": [
    {
     "name": "stdout",
     "output_type": "stream",
     "text": [
      "Feature: 0, Score: -0.20767\n",
      "Feature: 1, Score: 0.43309\n",
      "Feature: 2, Score: 1.33856\n",
      "Feature: 3, Score: -1.90193\n",
      "Feature: 4, Score: -1.15969\n",
      "Feature: 5, Score: -0.83532\n",
      "Feature: 6, Score: -1.03858\n",
      "Feature: 7, Score: -0.03690\n",
      "Feature: 8, Score: -0.38243\n",
      "Feature: 9, Score: -0.00039\n",
      "Feature: 10, Score: 0.13176\n",
      "Feature: 11, Score: 0.04858\n",
      "Feature: 12, Score: 0.00585\n",
      "Feature: 13, Score: 0.48131\n",
      "Feature: 14, Score: 1.07911\n",
      "Feature: 15, Score: 0.12220\n",
      "Feature: 16, Score: 0.86016\n",
      "Feature: 17, Score: 0.22061\n",
      "Feature: 18, Score: -0.74790\n"
     ]
    },
    {
     "data": {
      "image/png": "[encoded data removed]",
      "text/plain": [
       "<matplotlib.figure.Figure at 0x1947cc02a58>"
      ]
     },
     "metadata": {},
     "output_type": "display_data"
    }
   ],
   "source": [
    "# get importance\n",
    "importance = regr.coef_\n",
    "# summarize feature importance\n",
    "for i,v in enumerate(importance):\n",
    "\tprint('Feature: %0d, Score: %.5f' % (i,v))\n",
    "# plot feature importance\n",
    "pyplot.bar([x for x in range(len(importance))], importance)\n",
    "pyplot.show()"
   ]
  },
  {
   "cell_type": "code",
   "execution_count": 118,
   "metadata": {},
   "outputs": [
    {
     "name": "stdout",
     "output_type": "stream",
     "text": [
      "Coefficients: \n",
      " [ -2.07674495e-01   4.33092646e-01   1.33856324e+00  -1.90193389e+00\n",
      "  -1.15969322e+00  -8.35323930e-01  -1.03857733e+00  -3.69002996e-02\n",
      "  -3.82430429e-01  -3.92867206e-04   1.31763592e-01   4.85760348e-02\n",
      "   5.84797634e-03   4.81307505e-01   1.07910627e+00   1.22204126e-01\n",
      "   8.60164156e-01   2.20605032e-01  -7.47898793e-01]\n",
      "Mean squared error: 0.58\n",
      "Coefficient of determination: 0.41\n"
     ]
    }
   ],
   "source": [
    "print('Coefficients: \\n', regr.coef_)\n",
    "# The mean squared error\n",
    "print('Mean squared error: %.2f'\n",
    "      % mean_squared_error(outputs19, ncaa_pred))\n",
    "# The coefficient of determination: 1 is perfect prediction\n",
    "print('Coefficient of determination: %.2f'\n",
    "      % r2_score(outputs19, ncaa_pred))"
   ]
  },
  {
   "cell_type": "code",
   "execution_count": 119,
   "metadata": {},
   "outputs": [],
   "source": [
    "fullData = pd.read_csv(\"cbb.csv\")\n",
    "cleaned = fullData.dropna()\n",
    "cleaned = cleaned[cleaned.POSTSEASON != \"R68\"]\n",
    "cleaned = cleaned.replace({\"R32\": 1, \"R64\": 0, \"S16\": 2, \"E8\": 3, \"F4\": 4, \"2ND\": 5, \"Champions\": 6})\n",
    "cleaned['G'] = cleaned['G'] - cleaned['POSTSEASON'] - 1\n",
    "index = (cleaned[cleaned['POSTSEASON']== 6].index.values)\n",
    "cleaned = cleaned.set_value(index[0], 'G', cleaned.at[index[0],'G'] + 1)\n",
    "cleaned = cleaned.set_value(index[1], 'G', cleaned.at[index[1],'G'] + 1)\n",
    "cleaned = cleaned.set_value(index[2], 'G', cleaned.at[index[2],'G'] + 1)\n",
    "cleaned = cleaned.set_value(index[3], 'G', cleaned.at[index[3],'G'] + 1)\n",
    "cleaned = cleaned.set_value(index[4], 'G', cleaned.at[index[4],'G'] + 1)\n",
    "cleaned['W'] = cleaned['W'] - cleaned['POSTSEASON']\n",
    "cleaned = cleaned[cleaned.YEAR != 2019]\n",
    "\n",
    "cleaned = cleaned.drop([\"TEAM\"], axis=1)\n",
    "cleaned = cleaned.drop([\"YEAR\"], axis=1)\n",
    "cleaned = cleaned.drop([\"CONF\"], axis=1)\n",
    "cleaned = cleaned.drop([\"SEED\"], axis=1)\n",
    "cleaned=(cleaned-cleaned.mean())/cleaned.std()\n",
    "outputs = cleaned[\"POSTSEASON\"]\n",
    "cleaned = cleaned.drop([\"POSTSEASON\"], axis=1)"
   ]
  },
  {
   "cell_type": "code",
   "execution_count": 120,
   "metadata": {},
   "outputs": [],
   "source": [
    "regr = linear_model.LinearRegression()\n",
    "# Train the model using the training sets\n",
    "regr.fit(cleaned, outputs)\n",
    "# Make predictions using the testing set\n",
    "ncaa_pred = regr.predict(cleaned19)"
   ]
  },
  {
   "cell_type": "code",
   "execution_count": 121,
   "metadata": {},
   "outputs": [
    {
     "name": "stdout",
     "output_type": "stream",
     "text": [
      "Coefficients: \n",
      " [-0.12385146  0.36329336  1.2469512  -1.61766182 -1.20153554 -0.1745961\n",
      "  0.16408187 -0.01708374 -0.25671288 -0.04565091  0.31538017 -0.02087106\n",
      "  0.0069542   0.18481637  0.18082162 -0.0556203   0.12203772  0.02476856\n",
      " -0.49585312]\n",
      "Mean squared error: 0.38\n",
      "Coefficient of determination: 0.61\n"
     ]
    }
   ],
   "source": [
    "print('Coefficients: \\n', regr.coef_)\n",
    "# The mean squared error\n",
    "print('Mean squared error: %.2f'\n",
    "      % mean_squared_error(outputs19, ncaa_pred))\n",
    "# The coefficient of determination: 1 is perfect prediction\n",
    "print('Coefficient of determination: %.2f'\n",
    "      % r2_score(outputs19, ncaa_pred))"
   ]
  },
  {
   "cell_type": "code",
   "execution_count": 122,
   "metadata": {},
   "outputs": [
    {
     "name": "stdout",
     "output_type": "stream",
     "text": [
      "{'alpha': 0.001}\n",
      "-0.808771994914\n"
     ]
    }
   ],
   "source": [
    "from sklearn import metrics\n",
    "from sklearn.model_selection import GridSearchCV\n",
    "from sklearn.linear_model import Ridge\n",
    "\n",
    "# find best params and score for Ridge\n",
    "ridge = Ridge()\n",
    "\n",
    "parameters = {'alpha': [1e-3, 1e-2, 1, 5, 10, 20]}\n",
    "\n",
    "ridge_regressor = GridSearchCV(ridge, parameters, scoring=\"neg_mean_squared_error\", cv=5)\n",
    "\n",
    "ridge_regressor.fit(cleaned, outputs)\n",
    "\n",
    "print(ridge_regressor.best_params_)\n",
    "print(ridge_regressor.best_score_)"
   ]
  },
  {
   "cell_type": "code",
   "execution_count": 123,
   "metadata": {},
   "outputs": [
    {
     "name": "stdout",
     "output_type": "stream",
     "text": [
      "Coefficients: \n",
      " [-0.12380094  0.36317131  1.24672909 -1.61735927 -1.20135157 -0.17430676\n",
      "  0.16381007 -0.01710664 -0.25660979 -0.04561445  0.31531221 -0.02086834\n",
      "  0.00692169  0.18464866  0.18094685 -0.05572982  0.12210434  0.02476832\n",
      " -0.4956547 ]\n",
      "Mean squared error: 0.38\n",
      "Coefficient of determination: 0.61\n"
     ]
    }
   ],
   "source": [
    "ridge = Ridge(alpha=1e-3)\n",
    "ridge.fit(cleaned,outputs)\n",
    "predictions = ridge.predict(cleaned19)\n",
    "print('Coefficients: \\n', ridge.coef_)\n",
    "# The mean squared error\n",
    "print('Mean squared error: %.2f'\n",
    "      % mean_squared_error(outputs19, predictions))\n",
    "# The coefficient of determination: 1 is perfect prediction\n",
    "print('Coefficient of determination: %.2f'\n",
    "      % r2_score(outputs19, predictions))"
   ]
  },
  {
   "cell_type": "code",
   "execution_count": 124,
   "metadata": {},
   "outputs": [
    {
     "name": "stdout",
     "output_type": "stream",
     "text": [
      "{'alpha': 0.001}\n",
      "-0.747907596213\n"
     ]
    }
   ],
   "source": [
    "from sklearn.linear_model import Lasso\n",
    "\n",
    "# find best params and score for Lasso\n",
    "lasso = Lasso()\n",
    "\n",
    "parameters = {'alpha': [1e-3, 1e-2, 1, 5, 10, 20]}\n",
    "\n",
    "lasso_regressor = GridSearchCV(lasso, parameters, scoring='neg_mean_squared_error', cv=10)\n",
    "\n",
    "lasso_regressor.fit(cleaned, outputs)\n",
    "\n",
    "print(lasso_regressor.best_params_)\n",
    "print(lasso_regressor.best_score_)"
   ]
  },
  {
   "cell_type": "code",
   "execution_count": 125,
   "metadata": {},
   "outputs": [
    {
     "name": "stdout",
     "output_type": "stream",
     "text": [
      "Coefficients: \n",
      " [-0.10567116  0.31492139  1.18117064 -1.5350334  -1.16529231 -0.\n",
      "  0.12791253 -0.02675363 -0.22434374 -0.03031594  0.29149893 -0.01740353\n",
      " -0.          0.07698151  0.18013012 -0.12554784  0.11855664  0.02342229\n",
      " -0.42432646]\n",
      "Mean squared error: 0.38\n",
      "Coefficient of determination: 0.62\n"
     ]
    }
   ],
   "source": [
    "lasso = Lasso(alpha=1e-3)\n",
    "lasso.fit(cleaned,outputs)\n",
    "predictions = lasso.predict(cleaned19)\n",
    "print('Coefficients: \\n', lasso.coef_)\n",
    "# The mean squared error\n",
    "print('Mean squared error: %.2f'\n",
    "      % mean_squared_error(outputs19, predictions))\n",
    "# The coefficient of determination: 1 is perfect prediction\n",
    "print('Coefficient of determination: %.2f'\n",
    "      % r2_score(outputs19, predictions))"
   ]
  },
  {
   "cell_type": "code",
   "execution_count": null,
   "metadata": {},
   "outputs": [],
   "source": []
  },
  {
   "cell_type": "code",
   "execution_count": null,
   "metadata": {
    "collapsed": true
   },
   "outputs": [],
   "source": []
  }
 ],
 "metadata": {
  "kernelspec": {
   "display_name": "Python 3",
   "language": "python",
   "name": "python3"
  },
  "language_info": {
   "codemirror_mode": {
    "name": "ipython",
    "version": 3
   },
   "file_extension": ".py",
   "mimetype": "text/x-python",
   "name": "python",
   "nbconvert_exporter": "python",
   "pygments_lexer": "ipython3",
   "version": "3.6.1"
  }
 },
 "nbformat": 4,
 "nbformat_minor": 2
}
